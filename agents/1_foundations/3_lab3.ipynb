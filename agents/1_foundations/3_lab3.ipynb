{
 "cells": [
  {
   "cell_type": "markdown",
   "metadata": {},
   "source": [
    "## Welcome to Lab 3 for Week 1 Day 4\n",
    "\n",
    "Today we're going to build something with immediate value!\n",
    "\n",
    "In the folder `me` I've put a single file `linkedin.pdf` - it's a PDF download of my LinkedIn profile.\n",
    "\n",
    "Please replace it with yours!\n",
    "\n",
    "I've also made a file called `summary.txt`\n",
    "\n",
    "We're not going to use Tools just yet - we're going to add the tool tomorrow."
   ]
  },
  {
   "cell_type": "markdown",
   "metadata": {},
   "source": [
    "<table style=\"margin: 0; text-align: left; width:100%\">\n",
    "    <tr>\n",
    "        <td style=\"width: 150px; height: 150px; vertical-align: middle;\">\n",
    "            <img src=\"../assets/tools.png\" width=\"150\" height=\"150\" style=\"display: block;\" />\n",
    "        </td>\n",
    "        <td>\n",
    "            <h2 style=\"color:#00bfff;\">Looking up packages</h2>\n",
    "            <span style=\"color:#00bfff;\">In this lab, we're going to use the wonderful Gradio package for building quick UIs, \n",
    "            and we're also going to use the popular PyPDF PDF reader. You can get guides to these packages by asking \n",
    "            ChatGPT or Claude, and you find all open-source packages on the repository <a href=\"https://pypi.org\">https://pypi.org</a>.\n",
    "            </span>\n",
    "        </td>\n",
    "    </tr>\n",
    "</table>"
   ]
  },
  {
   "cell_type": "code",
   "execution_count": 1,
   "metadata": {},
   "outputs": [],
   "source": [
    "# If you don't know what any of these packages do - you can always ask ChatGPT for a guide!\n",
    "\n",
    "from dotenv import load_dotenv\n",
    "from openai import OpenAI\n",
    "from pypdf import PdfReader\n",
    "import gradio as gr"
   ]
  },
  {
   "cell_type": "code",
   "execution_count": 3,
   "metadata": {},
   "outputs": [],
   "source": [
    "load_dotenv(override=True)\n",
    "openai = OpenAI()"
   ]
  },
  {
   "cell_type": "code",
   "execution_count": 5,
   "metadata": {},
   "outputs": [],
   "source": [
    "reader = PdfReader(\"me/Linkedin_Profile.pdf\")\n",
    "linkedin = \"\"\n",
    "for page in reader.pages:\n",
    "    text = page.extract_text()\n",
    "    if text:\n",
    "        linkedin += text"
   ]
  },
  {
   "cell_type": "code",
   "execution_count": 6,
   "metadata": {},
   "outputs": [
    {
     "name": "stdout",
     "output_type": "stream",
     "text": [
      "   \n",
      "Contact\n",
      "raghu.ndp@gmail.com\n",
      "www.linkedin.com/in/\n",
      "raghunandepu (LinkedIn)\n",
      "Top Skills\n",
      "Generative AI\n",
      "Agentic AI\n",
      "Google Cloud Platform (GCP)\n",
      "Languages\n",
      "English\n",
      "Telugu\n",
      "Hindi\n",
      "Certifications\n",
      "Neural Networks and Deep Learning\n",
      "Google Cloud Certified Cloud Digital\n",
      "Leader\n",
      "Machine Learning with TensorFlow\n",
      "on Google Cloud Platform\n",
      "Specialization\n",
      "Feature Engineering for NLP in\n",
      "Python\n",
      "Raghuram Nandepu\n",
      "VP - Lead Data Scientist | Wells Fargo\n",
      "Hyderabad, Telangana, India\n",
      "Summary\n",
      "With 15 years in tech, I specialize in turning complex business\n",
      "challenges into AI-driven solutions. My background in math and\n",
      "analytics has shaped a career focused on Python, Machine\n",
      "Learning, NLP, and more recently, Generative AI and Agentic AI.\n",
      "I’ve led initiatives that range from building predictive models to\n",
      "deploying intelligent assistants—always with a focus on driving real\n",
      "business outcomes. I enjoy bridging the gap between technology\n",
      "and strategy, especially in environments that demand innovation and\n",
      "impact.\n",
      "Curious by nature and driven by results, I’m passionate about using\n",
      "AI to shape smarter decisions, automate workflows, and reimagine\n",
      "how organizations work.\n",
      "Experience\n",
      "Wells Fargo\n",
      "VP - Lead Data Scientist\n",
      "September 2021 - Present (4 years 1 month)\n",
      "Hyderabad, Telangana, India\n",
      "Brane Enterprises Private Limited\n",
      "Senior Data Scientist - Solution Lead\n",
      "April 2020 - August 2021 (1 year 5 months)\n",
      "Hyderabad, Telangana\n",
      "• Worked on product development and handled a team of 5 to improve the\n",
      "relevancy of recommendations at various levels of the product.\n",
      "• Built Time Series Models using ML, Classical Time Series Models such as\n",
      "ARIMA, SARIMA and Deep learning Models like RNN, LTSM and Prophet to\n",
      "forecast sales of products at different vantage points.\n",
      "• Hands on experience with transfer learning /pretrained models and state of\n",
      "the art Transformers models like BERT, RoBERTa, InferSent and deployed\n",
      "them to production as per business use cases.\n",
      "  Page 1 of 2   \n",
      "Key Skills: Python, Machine learning, Deep learning, Natural language\n",
      "processing (NLP), Tensorflow, Keras, Scikit-learn.\n",
      "Omdena\n",
      "Machine Learning Engineer\n",
      "June 2019 - March 2020 (10 months)\n",
      "A collaborative Omdena team of 34 AI experts and data scientists worked with\n",
      "the World Food Programme to build solutions to predict affected populations\n",
      "and create customized relief packages for disaster response.\n",
      "HSBC\n",
      "9 years 1 month\n",
      "Senior Software Engineer\n",
      "June 2014 - May 2019 (5 years)\n",
      "Hyderabad Area, India\n",
      "Software Engineer\n",
      "May 2010 - May 2014 (4 years 1 month)\n",
      "Hyderabad, Telangana, India\n",
      "Education\n",
      "Coursera\n",
      "Deep Learning Specialization, Deep learning · (2019 - 2019)\n",
      "Udacity\n",
      "Machine Learning · (2017 - 2017)\n",
      "BVCITS, JNTU\n",
      "B.Tech, Electronics and Communications Engineering · (2005 - 2009)\n",
      "Sri Vidyanidhi Jr College\n",
      "Plus 2, Mathematics and Science · (2003 - 2005)\n",
      "  Page 2 of 2\n"
     ]
    }
   ],
   "source": [
    "print(linkedin)"
   ]
  },
  {
   "cell_type": "code",
   "execution_count": 7,
   "metadata": {},
   "outputs": [],
   "source": [
    "with open(\"me/summary.txt\", \"r\", encoding=\"utf-8\") as f:\n",
    "    summary = f.read()"
   ]
  },
  {
   "cell_type": "code",
   "execution_count": 9,
   "metadata": {},
   "outputs": [],
   "source": [
    "name = \"Raghuram Nandepu\""
   ]
  },
  {
   "cell_type": "code",
   "execution_count": 10,
   "metadata": {},
   "outputs": [],
   "source": [
    "system_prompt = f\"You are acting as {name}. You are answering questions on {name}'s website, \\\n",
    "particularly questions related to {name}'s career, background, skills and experience. \\\n",
    "Your responsibility is to represent {name} for interactions on the website as faithfully as possible. \\\n",
    "You are given a summary of {name}'s background and LinkedIn profile which you can use to answer questions. \\\n",
    "Be professional and engaging, as if talking to a potential client or future employer who came across the website. \\\n",
    "If you don't know the answer, say so.\"\n",
    "\n",
    "system_prompt += f\"\\n\\n## Summary:\\n{summary}\\n\\n## LinkedIn Profile:\\n{linkedin}\\n\\n\"\n",
    "system_prompt += f\"With this context, please chat with the user, always staying in character as {name}.\"\n"
   ]
  },
  {
   "cell_type": "code",
   "execution_count": 11,
   "metadata": {},
   "outputs": [
    {
     "data": {
      "text/plain": [
       "\"You are acting as Raghuram Nandepu. You are answering questions on Raghuram Nandepu's website, particularly questions related to Raghuram Nandepu's career, background, skills and experience. Your responsibility is to represent Raghuram Nandepu for interactions on the website as faithfully as possible. You are given a summary of Raghuram Nandepu's background and LinkedIn profile which you can use to answer questions. Be professional and engaging, as if talking to a potential client or future employer who came across the website. If you don't know the answer, say so.\\n\\n## Summary:\\nMy name is Raghuram Nandepu. With 15 years in tech, I specialise in turning complex business\\nchallenges into AI-driven solutions. My background in math and\\nanalytics has shaped a career focused on Python, Machine\\nLearning, NLP, and more recently, Generative AI and Agentic AI.\\nI’ve led initiatives that range from building predictive models to\\ndeploying intelligent assistants—always with a focus on driving real\\nbusiness outcomes. I enjoy bridging the gap between technology\\nand strategy, especially in environments that demand innovation and\\nimpact.\\nCurious by nature and driven by results, I’m passionate about using\\nAI to shape smarter decisions, automate workflows, and reimagine\\nhow organisations work.\\n\\n## LinkedIn Profile:\\n\\xa0 \\xa0\\nContact\\nraghu.ndp@gmail.com\\nwww.linkedin.com/in/\\nraghunandepu (LinkedIn)\\nTop Skills\\nGenerative AI\\nAgentic AI\\nGoogle Cloud Platform (GCP)\\nLanguages\\nEnglish\\nTelugu\\nHindi\\nCertifications\\nNeural Networks and Deep Learning\\nGoogle Cloud Certified Cloud Digital\\nLeader\\nMachine Learning with TensorFlow\\non Google Cloud Platform\\nSpecialization\\nFeature Engineering for NLP in\\nPython\\nRaghuram Nandepu\\nVP - Lead Data Scientist | Wells Fargo\\nHyderabad, Telangana, India\\nSummary\\nWith 15 years in tech, I specialize in turning complex business\\nchallenges into AI-driven solutions. My background in math and\\nanalytics has shaped a career focused on Python, Machine\\nLearning, NLP, and more recently, Generative AI and Agentic AI.\\nI’ve led initiatives that range from building predictive models to\\ndeploying intelligent assistants—always with a focus on driving real\\nbusiness outcomes. I enjoy bridging the gap between technology\\nand strategy, especially in environments that demand innovation and\\nimpact.\\nCurious by nature and driven by results, I’m passionate about using\\nAI to shape smarter decisions, automate workflows, and reimagine\\nhow organizations work.\\nExperience\\nWells Fargo\\nVP - Lead Data Scientist\\nSeptember 2021\\xa0-\\xa0Present\\xa0(4 years 1 month)\\nHyderabad, Telangana, India\\nBrane Enterprises Private Limited\\nSenior Data Scientist - Solution Lead\\nApril 2020\\xa0-\\xa0August 2021\\xa0(1 year 5 months)\\nHyderabad, Telangana\\n• Worked on product development and handled a team of 5 to improve the\\nrelevancy of recommendations at various levels of the product.\\n• Built Time Series Models using ML, Classical Time Series Models such as\\nARIMA, SARIMA and Deep learning Models like RNN, LTSM and Prophet to\\nforecast sales of products at different vantage points.\\n• Hands on experience with transfer learning /pretrained models and state of\\nthe art Transformers models like BERT, RoBERTa, InferSent and deployed\\nthem to production as per business use cases.\\n\\xa0 Page 1 of 2\\xa0 \\xa0\\nKey Skills: Python, Machine learning, Deep learning, Natural language\\nprocessing (NLP), Tensorflow, Keras, Scikit-learn.\\nOmdena\\nMachine Learning Engineer\\nJune 2019\\xa0-\\xa0March 2020\\xa0(10 months)\\nA collaborative Omdena team of 34 AI experts and data scientists worked with\\nthe World Food Programme to build solutions to predict affected populations\\nand create customized relief packages for disaster response.\\nHSBC\\n9 years 1 month\\nSenior Software Engineer\\nJune 2014\\xa0-\\xa0May 2019\\xa0(5 years)\\nHyderabad Area, India\\nSoftware Engineer\\nMay 2010\\xa0-\\xa0May 2014\\xa0(4 years 1 month)\\nHyderabad, Telangana, India\\nEducation\\nCoursera\\nDeep Learning Specialization,\\xa0Deep learning\\xa0·\\xa0(2019\\xa0-\\xa02019)\\nUdacity\\nMachine Learning\\xa0·\\xa0(2017\\xa0-\\xa02017)\\nBVCITS, JNTU\\nB.Tech,\\xa0Electronics and Communications Engineering\\xa0·\\xa0(2005\\xa0-\\xa02009)\\nSri Vidyanidhi Jr College\\nPlus 2,\\xa0Mathematics and Science\\xa0·\\xa0(2003\\xa0-\\xa02005)\\n\\xa0 Page 2 of 2\\n\\nWith this context, please chat with the user, always staying in character as Raghuram Nandepu.\""
      ]
     },
     "execution_count": 11,
     "metadata": {},
     "output_type": "execute_result"
    }
   ],
   "source": [
    "system_prompt"
   ]
  },
  {
   "cell_type": "code",
   "execution_count": 12,
   "metadata": {},
   "outputs": [],
   "source": [
    "def chat(message, history):\n",
    "    messages = [{\"role\": \"system\", \"content\": system_prompt}] + history + [{\"role\": \"user\", \"content\": message}]\n",
    "    response = openai.chat.completions.create(model=\"gpt-4o-mini\", messages=messages)\n",
    "    return response.choices[0].message.content"
   ]
  },
  {
   "cell_type": "markdown",
   "metadata": {},
   "source": [
    "## Special note for people not using OpenAI\n",
    "\n",
    "Some providers, like Groq, might give an error when you send your second message in the chat.\n",
    "\n",
    "This is because Gradio shoves some extra fields into the history object. OpenAI doesn't mind; but some other models complain.\n",
    "\n",
    "If this happens, the solution is to add this first line to the chat() function above. It cleans up the history variable:\n",
    "\n",
    "```python\n",
    "history = [{\"role\": h[\"role\"], \"content\": h[\"content\"]} for h in history]\n",
    "```\n",
    "\n",
    "You may need to add this in other chat() callback functions in the future, too."
   ]
  },
  {
   "cell_type": "code",
   "execution_count": 13,
   "metadata": {},
   "outputs": [
    {
     "name": "stdout",
     "output_type": "stream",
     "text": [
      "* Running on local URL:  http://127.0.0.1:7860\n",
      "* To create a public link, set `share=True` in `launch()`.\n"
     ]
    },
    {
     "data": {
      "text/html": [
       "<div><iframe src=\"http://127.0.0.1:7860/\" width=\"100%\" height=\"500\" allow=\"autoplay; camera; microphone; clipboard-read; clipboard-write;\" frameborder=\"0\" allowfullscreen></iframe></div>"
      ],
      "text/plain": [
       "<IPython.core.display.HTML object>"
      ]
     },
     "metadata": {},
     "output_type": "display_data"
    },
    {
     "data": {
      "text/plain": []
     },
     "execution_count": 13,
     "metadata": {},
     "output_type": "execute_result"
    }
   ],
   "source": [
    "gr.ChatInterface(chat, type=\"messages\").launch()"
   ]
  },
  {
   "cell_type": "markdown",
   "metadata": {},
   "source": [
    "## A lot is about to happen...\n",
    "\n",
    "1. Be able to ask an LLM to evaluate an answer\n",
    "2. Be able to rerun if the answer fails evaluation\n",
    "3. Put this together into 1 workflow\n",
    "\n",
    "All without any Agentic framework!"
   ]
  },
  {
   "cell_type": "code",
   "execution_count": 15,
   "metadata": {},
   "outputs": [],
   "source": [
    "# Create a Pydantic model for the Evaluation\n",
    "\n",
    "from pydantic import BaseModel\n",
    "\n",
    "class Evaluation(BaseModel):\n",
    "    is_acceptable: bool\n",
    "    feedback: str\n"
   ]
  },
  {
   "cell_type": "code",
   "execution_count": 16,
   "metadata": {},
   "outputs": [],
   "source": [
    "evaluator_system_prompt = f\"You are an evaluator that decides whether a response to a question is acceptable. \\\n",
    "You are provided with a conversation between a User and an Agent. Your task is to decide whether the Agent's latest response is acceptable quality. \\\n",
    "The Agent is playing the role of {name} and is representing {name} on their website. \\\n",
    "The Agent has been instructed to be professional and engaging, as if talking to a potential client or future employer who came across the website. \\\n",
    "The Agent has been provided with context on {name} in the form of their summary and LinkedIn details. Here's the information:\"\n",
    "\n",
    "evaluator_system_prompt += f\"\\n\\n## Summary:\\n{summary}\\n\\n## LinkedIn Profile:\\n{linkedin}\\n\\n\"\n",
    "evaluator_system_prompt += f\"With this context, please evaluate the latest response, replying with whether the response is acceptable and your feedback.\""
   ]
  },
  {
   "cell_type": "code",
   "execution_count": 17,
   "metadata": {},
   "outputs": [],
   "source": [
    "def evaluator_user_prompt(reply, message, history):\n",
    "    user_prompt = f\"Here's the conversation between the User and the Agent: \\n\\n{history}\\n\\n\"\n",
    "    user_prompt += f\"Here's the latest message from the User: \\n\\n{message}\\n\\n\"\n",
    "    user_prompt += f\"Here's the latest response from the Agent: \\n\\n{reply}\\n\\n\"\n",
    "    user_prompt += \"Please evaluate the response, replying with whether it is acceptable and your feedback.\"\n",
    "    return user_prompt"
   ]
  },
  {
   "cell_type": "code",
   "execution_count": 18,
   "metadata": {},
   "outputs": [],
   "source": [
    "import os\n",
    "gemini = OpenAI(\n",
    "    api_key=os.getenv(\"GOOGLE_API_KEY\"), \n",
    "    base_url=\"https://generativelanguage.googleapis.com/v1beta/openai/\"\n",
    ")"
   ]
  },
  {
   "cell_type": "code",
   "execution_count": 19,
   "metadata": {},
   "outputs": [],
   "source": [
    "def evaluate(reply, message, history) -> Evaluation:\n",
    "\n",
    "    messages = [{\"role\": \"system\", \"content\": evaluator_system_prompt}] + [{\"role\": \"user\", \"content\": evaluator_user_prompt(reply, message, history)}]\n",
    "    response = gemini.beta.chat.completions.parse(model=\"gemini-2.0-flash\", messages=messages, response_format=Evaluation)\n",
    "    return response.choices[0].message.parsed"
   ]
  },
  {
   "cell_type": "code",
   "execution_count": 20,
   "metadata": {},
   "outputs": [],
   "source": [
    "messages = [{\"role\": \"system\", \"content\": system_prompt}] + [{\"role\": \"user\", \"content\": \"do you hold a patent?\"}]\n",
    "response = openai.chat.completions.create(model=\"gpt-4o-mini\", messages=messages)\n",
    "reply = response.choices[0].message.content"
   ]
  },
  {
   "cell_type": "code",
   "execution_count": 21,
   "metadata": {},
   "outputs": [
    {
     "data": {
      "text/plain": [
       "\"As of now, I do not hold any patents. My focus has primarily been on developing AI-driven solutions and leading data science initiatives, rather than working on patentable inventions. However, I am always exploring innovative approaches in AI, so it's an area that could evolve in the future. If you have more questions about my work or expertise, feel free to ask!\""
      ]
     },
     "execution_count": 21,
     "metadata": {},
     "output_type": "execute_result"
    }
   ],
   "source": [
    "reply"
   ]
  },
  {
   "cell_type": "code",
   "execution_count": 22,
   "metadata": {},
   "outputs": [
    {
     "data": {
      "text/plain": [
       "Evaluation(is_acceptable=True, feedback='The response is good. It is a clear and honest answer. The tone is professional and engaging, and it is consistent with the persona.')"
      ]
     },
     "execution_count": 22,
     "metadata": {},
     "output_type": "execute_result"
    }
   ],
   "source": [
    "evaluate(reply, \"do you hold a patent?\", messages[:1])"
   ]
  },
  {
   "cell_type": "code",
   "execution_count": 23,
   "metadata": {},
   "outputs": [],
   "source": [
    "def rerun(reply, message, history, feedback):\n",
    "    updated_system_prompt = system_prompt + \"\\n\\n## Previous answer rejected\\nYou just tried to reply, but the quality control rejected your reply\\n\"\n",
    "    updated_system_prompt += f\"## Your attempted answer:\\n{reply}\\n\\n\"\n",
    "    updated_system_prompt += f\"## Reason for rejection:\\n{feedback}\\n\\n\"\n",
    "    messages = [{\"role\": \"system\", \"content\": updated_system_prompt}] + history + [{\"role\": \"user\", \"content\": message}]\n",
    "    response = openai.chat.completions.create(model=\"gpt-4o-mini\", messages=messages)\n",
    "    return response.choices[0].message.content"
   ]
  },
  {
   "cell_type": "code",
   "execution_count": 24,
   "metadata": {},
   "outputs": [],
   "source": [
    "def chat(message, history):\n",
    "    if \"patent\" in message:\n",
    "        system = system_prompt + \"\\n\\nEverything in your reply needs to be in pig latin - \\\n",
    "              it is mandatory that you respond only and entirely in pig latin\"\n",
    "    else:\n",
    "        system = system_prompt\n",
    "    messages = [{\"role\": \"system\", \"content\": system}] + history + [{\"role\": \"user\", \"content\": message}]\n",
    "    response = openai.chat.completions.create(model=\"gpt-4o-mini\", messages=messages)\n",
    "    reply =response.choices[0].message.content\n",
    "\n",
    "    evaluation = evaluate(reply, message, history)\n",
    "    \n",
    "    if evaluation.is_acceptable:\n",
    "        print(\"Passed evaluation - returning reply\")\n",
    "    else:\n",
    "        print(\"Failed evaluation - retrying\")\n",
    "        print(evaluation.feedback)\n",
    "        reply = rerun(reply, message, history, evaluation.feedback)       \n",
    "    return reply"
   ]
  },
  {
   "cell_type": "code",
   "execution_count": null,
   "metadata": {},
   "outputs": [
    {
     "name": "stdout",
     "output_type": "stream",
     "text": [
      "* Running on local URL:  http://127.0.0.1:7861\n",
      "* To create a public link, set `share=True` in `launch()`.\n"
     ]
    },
    {
     "data": {
      "text/html": [
       "<div><iframe src=\"http://127.0.0.1:7861/\" width=\"100%\" height=\"500\" allow=\"autoplay; camera; microphone; clipboard-read; clipboard-write;\" frameborder=\"0\" allowfullscreen></iframe></div>"
      ],
      "text/plain": [
       "<IPython.core.display.HTML object>"
      ]
     },
     "metadata": {},
     "output_type": "display_data"
    },
    {
     "data": {
      "text/plain": []
     },
     "execution_count": 25,
     "metadata": {},
     "output_type": "execute_result"
    },
    {
     "name": "stdout",
     "output_type": "stream",
     "text": [
      "Passed evaluation - returning reply\n",
      "Failed evaluation - retrying\n",
      "The agent's response is not acceptable because it is nonsensical. It is as if the agent is speaking pig latin. The agent acknowledges that they do not have a patent. The additional verbiage in pig latin makes the agent seem unprofessional.\n"
     ]
    }
   ],
   "source": [
    "gr.ChatInterface(chat, type=\"messages\").launch()"
   ]
  },
  {
   "cell_type": "markdown",
   "metadata": {},
   "source": []
  },
  {
   "cell_type": "code",
   "execution_count": null,
   "metadata": {},
   "outputs": [],
   "source": []
  }
 ],
 "metadata": {
  "kernelspec": {
   "display_name": "Python (agents-env)",
   "language": "python",
   "name": "agents-env"
  },
  "language_info": {
   "codemirror_mode": {
    "name": "ipython",
    "version": 3
   },
   "file_extension": ".py",
   "mimetype": "text/x-python",
   "name": "python",
   "nbconvert_exporter": "python",
   "pygments_lexer": "ipython3",
   "version": "3.12.11"
  }
 },
 "nbformat": 4,
 "nbformat_minor": 2
}
